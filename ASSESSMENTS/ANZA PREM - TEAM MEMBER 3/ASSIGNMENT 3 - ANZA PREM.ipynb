{
 "cells": [
  {
   "cell_type": "markdown",
   "metadata": {
    "id": "GQHlflnGAEiw"
   },
   "source": [
    "**Image Augmentation**"
   ]
  },
  {
   "cell_type": "code",
   "execution_count": 1,
   "metadata": {
    "id": "jmWRoXwPAOao"
   },
   "outputs": [],
   "source": [
    "import tensorflow\n",
    "from tensorflow.keras.preprocessing.image import ImageDataGenerator"
   ]
  },
  {
   "cell_type": "code",
   "execution_count": 2,
   "metadata": {
    "id": "jYRzN0REAWFH"
   },
   "outputs": [],
   "source": [
    "train_datagen = ImageDataGenerator(rescale=1./255,zoom_range=0.2,horizontal_flip=True,vertical_flip=True)"
   ]
  },
  {
   "cell_type": "code",
   "execution_count": 3,
   "metadata": {
    "id": "vhIZtgfvAh-D"
   },
   "outputs": [],
   "source": [
    "test_datagen = ImageDataGenerator(rescale=1./255)"
   ]
  },
  {
   "cell_type": "code",
   "execution_count": 5,
   "metadata": {
    "colab": {
     "base_uri": "https://localhost:8080/"
    },
    "id": "B9FpTKpLApmm",
    "outputId": "64216bdd-2569-445d-9aee-ed22a95c7154",
    "scrolled": true
   },
   "outputs": [
    {
     "name": "stdout",
     "output_type": "stream",
     "text": [
      "Found 4317 images belonging to 5 classes.\n"
     ]
    }
   ],
   "source": [
    "xtrain = train_datagen.flow_from_directory('Flowers-Dataset/flowers',target_size=(64,64),class_mode='categorical',batch_size=100)"
   ]
  },
  {
   "cell_type": "code",
   "execution_count": 7,
   "metadata": {
    "colab": {
     "base_uri": "https://localhost:8080/"
    },
    "id": "ai9ax0koDqDT",
    "outputId": "7909a9fd-404d-46eb-9dab-3b8d860da581"
   },
   "outputs": [
    {
     "name": "stdout",
     "output_type": "stream",
     "text": [
      "Found 4317 images belonging to 5 classes.\n"
     ]
    }
   ],
   "source": [
    "xtest = test_datagen.flow_from_directory('Flowers-Dataset/flowers',target_size=(64,64),class_mode='categorical',batch_size=100)"
   ]
  },
  {
   "cell_type": "markdown",
   "metadata": {
    "id": "1stOOHB8HI71"
   },
   "source": [
    "**Create model**"
   ]
  },
  {
   "cell_type": "code",
   "execution_count": 8,
   "metadata": {
    "id": "ZIvEbpaHGCkt"
   },
   "outputs": [],
   "source": [
    "from tensorflow.keras.models import Sequential\n",
    "from tensorflow.keras.layers import Convolution2D,MaxPooling2D,Flatten,Dense"
   ]
  },
  {
   "cell_type": "code",
   "execution_count": 9,
   "metadata": {
    "id": "JDTiHxrUGp4N"
   },
   "outputs": [],
   "source": [
    "model = Sequential()"
   ]
  },
  {
   "cell_type": "markdown",
   "metadata": {
    "id": "7zBNDvBfG1Ne"
   },
   "source": [
    "**Convolution layer**"
   ]
  },
  {
   "cell_type": "code",
   "execution_count": 10,
   "metadata": {
    "id": "2qwcAoeJG_Qj"
   },
   "outputs": [],
   "source": [
    "model.add(Convolution2D(32,(3,3),activation='relu',input_shape=(64,64,3)))"
   ]
  },
  {
   "cell_type": "markdown",
   "metadata": {
    "id": "wuJgbgG6HWPL"
   },
   "source": [
    "**Maxpooling **"
   ]
  },
  {
   "cell_type": "code",
   "execution_count": 11,
   "metadata": {
    "id": "UxaogiQkHO5P"
   },
   "outputs": [],
   "source": [
    "model.add(MaxPooling2D(pool_size=(2,2)))"
   ]
  },
  {
   "cell_type": "markdown",
   "metadata": {
    "id": "sGeUcIUcHg7P"
   },
   "source": [
    "**Flatten**"
   ]
  },
  {
   "cell_type": "code",
   "execution_count": 12,
   "metadata": {
    "id": "lP5mkEn3Hqi8"
   },
   "outputs": [],
   "source": [
    "model.add(Flatten())"
   ]
  },
  {
   "cell_type": "markdown",
   "metadata": {
    "id": "KdBAMGD9HyIs"
   },
   "source": [
    "**Dense layer**"
   ]
  },
  {
   "cell_type": "code",
   "execution_count": 13,
   "metadata": {
    "id": "fKsW1hg8H20V"
   },
   "outputs": [],
   "source": [
    "model.add(Dense(300,activation='relu')) #hiddenlayer 1\n",
    "model.add(Dense(300,activation='relu')) #hiddenlayer 2\n",
    "model.add(Dense(150,activation='relu')) #hiddenlayer 3"
   ]
  },
  {
   "cell_type": "markdown",
   "metadata": {
    "id": "DKLW7D5zICHW"
   },
   "source": [
    "**Output layer**"
   ]
  },
  {
   "cell_type": "code",
   "execution_count": 14,
   "metadata": {
    "id": "RIzTRkqFIFNG"
   },
   "outputs": [],
   "source": [
    "model.add(Dense(5,activation='softmax'))"
   ]
  },
  {
   "cell_type": "markdown",
   "metadata": {
    "id": "Qsap5g3wIKdG"
   },
   "source": [
    "**Compile the model**"
   ]
  },
  {
   "cell_type": "code",
   "execution_count": 15,
   "metadata": {
    "id": "038ny_8SIOIR"
   },
   "outputs": [],
   "source": [
    "model.compile(optimizer='adam',loss='categorical_crossentropy',metrics=['accuracy'])"
   ]
  },
  {
   "cell_type": "code",
   "execution_count": 16,
   "metadata": {
    "colab": {
     "base_uri": "https://localhost:8080/"
    },
    "id": "0Q5oDfGNI2Wn",
    "outputId": "497bcb0c-3412-4cfd-e575-310a1e608ebc"
   },
   "outputs": [
    {
     "name": "stderr",
     "output_type": "stream",
     "text": [
      "C:\\Users\\ramvi\\AppData\\Local\\Temp\\ipykernel_24544\\2033910576.py:1: UserWarning: `Model.fit_generator` is deprecated and will be removed in a future version. Please use `Model.fit`, which supports generators.\n",
      "  model.fit_generator(xtrain,\n"
     ]
    },
    {
     "name": "stdout",
     "output_type": "stream",
     "text": [
      "Epoch 1/10\n",
      "44/44 [==============================] - 24s 529ms/step - loss: 1.4021 - accuracy: 0.3919 - val_loss: 1.1613 - val_accuracy: 0.5244\n",
      "Epoch 2/10\n",
      "44/44 [==============================] - 22s 495ms/step - loss: 1.1267 - accuracy: 0.5413 - val_loss: 1.0386 - val_accuracy: 0.5868\n",
      "Epoch 3/10\n",
      "44/44 [==============================] - 22s 500ms/step - loss: 1.0428 - accuracy: 0.5874 - val_loss: 0.9826 - val_accuracy: 0.6139\n",
      "Epoch 4/10\n",
      "44/44 [==============================] - 23s 536ms/step - loss: 0.9886 - accuracy: 0.6034 - val_loss: 0.9795 - val_accuracy: 0.6120\n",
      "Epoch 5/10\n",
      "44/44 [==============================] - 22s 502ms/step - loss: 0.9264 - accuracy: 0.6361 - val_loss: 0.9692 - val_accuracy: 0.6194\n",
      "Epoch 6/10\n",
      "44/44 [==============================] - 23s 529ms/step - loss: 0.9095 - accuracy: 0.6430 - val_loss: 0.8782 - val_accuracy: 0.6525\n",
      "Epoch 7/10\n",
      "44/44 [==============================] - 22s 501ms/step - loss: 0.8741 - accuracy: 0.6599 - val_loss: 0.8575 - val_accuracy: 0.6732\n",
      "Epoch 8/10\n",
      "44/44 [==============================] - 21s 475ms/step - loss: 0.8412 - accuracy: 0.6759 - val_loss: 0.9764 - val_accuracy: 0.6359\n",
      "Epoch 9/10\n",
      "44/44 [==============================] - 21s 481ms/step - loss: 0.8153 - accuracy: 0.6926 - val_loss: 0.8917 - val_accuracy: 0.6349\n",
      "Epoch 10/10\n",
      "44/44 [==============================] - 21s 490ms/step - loss: 0.7929 - accuracy: 0.6991 - val_loss: 0.7804 - val_accuracy: 0.7060\n"
     ]
    },
    {
     "data": {
      "text/plain": [
       "<keras.callbacks.History at 0x181b2370430>"
      ]
     },
     "execution_count": 16,
     "metadata": {},
     "output_type": "execute_result"
    }
   ],
   "source": [
    "model.fit_generator(xtrain,\n",
    "                    steps_per_epoch=len(xtrain),\n",
    "                    epochs=10,                \n",
    "                    validation_data=xtest,\n",
    "                    validation_steps=len(xtest))"
   ]
  },
  {
   "cell_type": "markdown",
   "metadata": {
    "id": "Af0IkuMpMmoY"
   },
   "source": [
    "**Saving**"
   ]
  },
  {
   "cell_type": "code",
   "execution_count": 17,
   "metadata": {
    "id": "i9SyyPY2MpYs"
   },
   "outputs": [],
   "source": [
    "model.save('Flowers.h5')"
   ]
  },
  {
   "cell_type": "markdown",
   "metadata": {
    "id": "B8Iju1qKMy-x"
   },
   "source": [
    "**Testing the model**"
   ]
  },
  {
   "cell_type": "code",
   "execution_count": 18,
   "metadata": {
    "id": "5cvF8xglMsF9"
   },
   "outputs": [],
   "source": [
    "import numpy as np\n",
    "from tensorflow.keras.preprocessing import image"
   ]
  },
  {
   "cell_type": "code",
   "execution_count": 21,
   "metadata": {
    "id": "511x-Be3NCqa"
   },
   "outputs": [],
   "source": [
    "img = image.load_img('Flowers-Dataset/flower.jpg',target_size=(64,64))"
   ]
  },
  {
   "cell_type": "code",
   "execution_count": 22,
   "metadata": {
    "colab": {
     "base_uri": "https://localhost:8080/",
     "height": 81
    },
    "id": "-z1DyQWTNqCC",
    "outputId": "db66247d-04c2-4e6b-ba42-8a7503596400"
   },
   "outputs": [
    {
     "data": {
      "image/png": "[encoded data removed]",
      "text/plain": [
       "<PIL.Image.Image image mode=RGB size=64x64 at 0x181BBB27040>"
      ]
     },
     "execution_count": 22,
     "metadata": {},
     "output_type": "execute_result"
    }
   ],
   "source": [
    "img"
   ]
  },
  {
   "cell_type": "code",
   "execution_count": 23,
   "metadata": {
    "colab": {
     "base_uri": "https://localhost:8080/"
    },
    "id": "H-5jHNsENw2L",
    "outputId": "49a39d51-a6f9-48af-8353-c047199c6556",
    "scrolled": true
   },
   "outputs": [
    {
     "data": {
      "text/plain": [
       "array([[[ 7., 14.,  6.],\n",
       "        [12., 24., 12.],\n",
       "        [12., 24., 12.],\n",
       "        ...,\n",
       "        [29., 62.,  7.],\n",
       "        [28., 60., 10.],\n",
       "        [26., 53., 10.]],\n",
       "\n",
       "       [[ 8., 18.,  7.],\n",
       "        [20., 33., 16.],\n",
       "        [12., 25.,  8.],\n",
       "        ...,\n",
       "        [32., 61., 13.],\n",
       "        [21., 47.,  2.],\n",
       "        [28., 51.,  9.]],\n",
       "\n",
       "       [[18., 30., 16.],\n",
       "        [17., 32., 11.],\n",
       "        [11., 23.,  9.],\n",
       "        ...,\n",
       "        [27., 64., 20.],\n",
       "        [26., 52., 15.],\n",
       "        [21., 43.,  7.]],\n",
       "\n",
       "       ...,\n",
       "\n",
       "       [[26., 62., 16.],\n",
       "        [25., 63., 24.],\n",
       "        [33., 69., 33.],\n",
       "        ...,\n",
       "        [25., 51., 16.],\n",
       "        [20., 39., 11.],\n",
       "        [12., 20.,  7.]],\n",
       "\n",
       "       [[26., 61., 21.],\n",
       "        [32., 64., 27.],\n",
       "        [30., 63., 32.],\n",
       "        ...,\n",
       "        [22., 53., 19.],\n",
       "        [18., 38., 13.],\n",
       "        [ 8., 15.,  7.]],\n",
       "\n",
       "       [[27., 54., 23.],\n",
       "        [23., 52., 21.],\n",
       "        [32., 60., 37.],\n",
       "        ...,\n",
       "        [22., 56., 21.],\n",
       "        [16., 35., 13.],\n",
       "        [ 7., 14.,  6.]]], dtype=float32)"
      ]
     },
     "execution_count": 23,
     "metadata": {},
     "output_type": "execute_result"
    }
   ],
   "source": [
    "x = image.img_to_array(img)\n",
    "x"
   ]
  },
  {
   "cell_type": "code",
   "execution_count": 24,
   "metadata": {
    "colab": {
     "base_uri": "https://localhost:8080/"
    },
    "id": "bA4wgqyANyrI",
    "outputId": "a36e1c12-160e-4e48-d4f6-f1d031080e33",
    "scrolled": true
   },
   "outputs": [
    {
     "data": {
      "text/plain": [
       "array([[[[ 7., 14.,  6.],\n",
       "         [12., 24., 12.],\n",
       "         [12., 24., 12.],\n",
       "         ...,\n",
       "         [29., 62.,  7.],\n",
       "         [28., 60., 10.],\n",
       "         [26., 53., 10.]],\n",
       "\n",
       "        [[ 8., 18.,  7.],\n",
       "         [20., 33., 16.],\n",
       "         [12., 25.,  8.],\n",
       "         ...,\n",
       "         [32., 61., 13.],\n",
       "         [21., 47.,  2.],\n",
       "         [28., 51.,  9.]],\n",
       "\n",
       "        [[18., 30., 16.],\n",
       "         [17., 32., 11.],\n",
       "         [11., 23.,  9.],\n",
       "         ...,\n",
       "         [27., 64., 20.],\n",
       "         [26., 52., 15.],\n",
       "         [21., 43.,  7.]],\n",
       "\n",
       "        ...,\n",
       "\n",
       "        [[26., 62., 16.],\n",
       "         [25., 63., 24.],\n",
       "         [33., 69., 33.],\n",
       "         ...,\n",
       "         [25., 51., 16.],\n",
       "         [20., 39., 11.],\n",
       "         [12., 20.,  7.]],\n",
       "\n",
       "        [[26., 61., 21.],\n",
       "         [32., 64., 27.],\n",
       "         [30., 63., 32.],\n",
       "         ...,\n",
       "         [22., 53., 19.],\n",
       "         [18., 38., 13.],\n",
       "         [ 8., 15.,  7.]],\n",
       "\n",
       "        [[27., 54., 23.],\n",
       "         [23., 52., 21.],\n",
       "         [32., 60., 37.],\n",
       "         ...,\n",
       "         [22., 56., 21.],\n",
       "         [16., 35., 13.],\n",
       "         [ 7., 14.,  6.]]]], dtype=float32)"
      ]
     },
     "execution_count": 24,
     "metadata": {},
     "output_type": "execute_result"
    }
   ],
   "source": [
    "x = np.expand_dims(x,axis=0)\n",
    "x"
   ]
  },
  {
   "cell_type": "code",
   "execution_count": 25,
   "metadata": {
    "colab": {
     "base_uri": "https://localhost:8080/"
    },
    "id": "IfjAfhIoN-UZ",
    "outputId": "f529ba5a-fc8d-48f3-bc54-eb76aecab6dc"
   },
   "outputs": [
    {
     "name": "stdout",
     "output_type": "stream",
     "text": [
      "1/1 [==============================] - 2s 2s/step\n"
     ]
    },
    {
     "data": {
      "text/plain": [
       "array([[0., 0., 1., 0., 0.]], dtype=float32)"
      ]
     },
     "execution_count": 25,
     "metadata": {},
     "output_type": "execute_result"
    }
   ],
   "source": [
    "model.predict(x)"
   ]
  },
  {
   "cell_type": "code",
   "execution_count": 26,
   "metadata": {
    "colab": {
     "base_uri": "https://localhost:8080/"
    },
    "id": "6mL4T8CwOFor",
    "outputId": "10b87dde-d1bc-4b13-dbdc-ffbe58d21a24"
   },
   "outputs": [
    {
     "data": {
      "text/plain": [
       "{'daisy': 0, 'dandelion': 1, 'rose': 2, 'sunflower': 3, 'tulip': 4}"
      ]
     },
     "execution_count": 26,
     "metadata": {},
     "output_type": "execute_result"
    }
   ],
   "source": [
    "xtrain.class_indices"
   ]
  },
  {
   "cell_type": "code",
   "execution_count": 27,
   "metadata": {
    "colab": {
     "base_uri": "https://localhost:8080/",
     "height": 35
    },
    "id": "tMzc19khOLGo",
    "outputId": "2903163d-08f4-4061-fd8b-4070dcde33f7"
   },
   "outputs": [
    {
     "name": "stdout",
     "output_type": "stream",
     "text": [
      "1/1 [==============================] - 0s 18ms/step\n"
     ]
    },
    {
     "data": {
      "text/plain": [
       "'rose'"
      ]
     },
     "execution_count": 27,
     "metadata": {},
     "output_type": "execute_result"
    }
   ],
   "source": [
    "op = ['daisy','dandelion','rose','sunflower','tulip']\n",
    "pred = np.argmax(model.predict(x))\n",
    "op[pred]"
   ]
  }
 ],
 "metadata": {
  "colab": {
   "collapsed_sections": [],
   "provenance": []
  },
  "kernelspec": {
   "display_name": "Python 3 (ipykernel)",
   "language": "python",
   "name": "python3"
  },
  "language_info": {
   "codemirror_mode": {
    "name": "ipython",
    "version": 3
   },
   "file_extension": ".py",
   "mimetype": "text/x-python",
   "name": "python",
   "nbconvert_exporter": "python",
   "pygments_lexer": "ipython3",
   "version": "3.9.12"
  }
 },
 "nbformat": 4,
 "nbformat_minor": 1
}
