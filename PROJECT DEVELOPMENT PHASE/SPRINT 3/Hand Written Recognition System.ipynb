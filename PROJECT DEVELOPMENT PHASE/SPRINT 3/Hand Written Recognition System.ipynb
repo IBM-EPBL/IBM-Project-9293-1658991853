{
 "cells": [
  {
   "cell_type": "code",
   "execution_count": 6,
   "id": "92bd54cf",
   "metadata": {},
   "outputs": [],
   "source": [
    "import numpy\n",
    "import tensorflow\n",
    "import keras\n",
    "from tensorflow.keras.datasets import mnist\n",
    "from tensorflow.keras.models import Sequential\n",
    "from tensorflow.keras.models import load_model\n",
    "from tensorflow.keras import layers\n",
    "from tensorflow.keras.layers import Dense, Flatten\n",
    "from tensorflow.keras.layers import Conv2D\n",
    "from keras.optimizers import Adam\n",
    "from keras.utils import np_utils\n",
    "import matplotlib.pyplot as plt"
   ]
  },
  {
   "cell_type": "code",
   "execution_count": 2,
   "id": "d93f922c",
   "metadata": {},
   "outputs": [],
   "source": [
    "#Sprint 1\n",
    "#loading the dataset\n",
    "#splitting the dataset into train and test\n",
    "\n",
    "\n",
    "(X_train,y_train),(X_test,y_test)=mnist.load_data()\n",
    "\n"
   ]
  },
  {
   "cell_type": "code",
   "execution_count": 3,
   "id": "87df1caa",
   "metadata": {},
   "outputs": [
    {
     "name": "stdout",
     "output_type": "stream",
     "text": [
      "(60000, 28, 28)\n",
      "(10000, 28, 28)\n"
     ]
    }
   ],
   "source": [
    "print(X_train.shape)\n",
    "print(X_test.shape)"
   ]
  },
  {
   "cell_type": "code",
   "execution_count": 4,
   "id": "69e4b3da",
   "metadata": {},
   "outputs": [
    {
     "data": {
      "text/plain": [
       "array([[  0,   0,   0,   0,   0,   0,   0,   0,   0,   0,   0,   0,   0,\n",
       "          0,   0,   0,   0,   0,   0,   0,   0,   0,   0,   0,   0,   0,\n",
       "          0,   0],\n",
       "       [  0,   0,   0,   0,   0,   0,   0,   0,   0,   0,   0,   0,   0,\n",
       "          0,   0,   0,   0,   0,   0,   0,   0,   0,   0,   0,   0,   0,\n",
       "          0,   0],\n",
       "       [  0,   0,   0,   0,   0,   0,   0,   0,   0,   0,   0,   0,   0,\n",
       "          0,   0,   0,   0,   0,   0,   0,   0,   0,   0,   0,   0,   0,\n",
       "          0,   0],\n",
       "       [  0,   0,   0,   0,   0,   0,   0,   0,   0,   0,   0,   0,   0,\n",
       "          0,   0,   0,   0,   0,   0,   0,   0,   0,   0,   0,   0,   0,\n",
       "          0,   0],\n",
       "       [  0,   0,   0,   0,   0,   0,   0,   0,   0,   0,   0,   0,   0,\n",
       "          0,   0,   0,   0,   0,   0,   0,   0,   0,   0,   0,   0,   0,\n",
       "          0,   0],\n",
       "       [  0,   0,   0,   0,   0,   0,   0,   0,   0,   0,   0,   0,   3,\n",
       "         18,  18,  18, 126, 136, 175,  26, 166, 255, 247, 127,   0,   0,\n",
       "          0,   0],\n",
       "       [  0,   0,   0,   0,   0,   0,   0,   0,  30,  36,  94, 154, 170,\n",
       "        253, 253, 253, 253, 253, 225, 172, 253, 242, 195,  64,   0,   0,\n",
       "          0,   0],\n",
       "       [  0,   0,   0,   0,   0,   0,   0,  49, 238, 253, 253, 253, 253,\n",
       "        253, 253, 253, 253, 251,  93,  82,  82,  56,  39,   0,   0,   0,\n",
       "          0,   0],\n",
       "       [  0,   0,   0,   0,   0,   0,   0,  18, 219, 253, 253, 253, 253,\n",
       "        253, 198, 182, 247, 241,   0,   0,   0,   0,   0,   0,   0,   0,\n",
       "          0,   0],\n",
       "       [  0,   0,   0,   0,   0,   0,   0,   0,  80, 156, 107, 253, 253,\n",
       "        205,  11,   0,  43, 154,   0,   0,   0,   0,   0,   0,   0,   0,\n",
       "          0,   0],\n",
       "       [  0,   0,   0,   0,   0,   0,   0,   0,   0,  14,   1, 154, 253,\n",
       "         90,   0,   0,   0,   0,   0,   0,   0,   0,   0,   0,   0,   0,\n",
       "          0,   0],\n",
       "       [  0,   0,   0,   0,   0,   0,   0,   0,   0,   0,   0, 139, 253,\n",
       "        190,   2,   0,   0,   0,   0,   0,   0,   0,   0,   0,   0,   0,\n",
       "          0,   0],\n",
       "       [  0,   0,   0,   0,   0,   0,   0,   0,   0,   0,   0,  11, 190,\n",
       "        253,  70,   0,   0,   0,   0,   0,   0,   0,   0,   0,   0,   0,\n",
       "          0,   0],\n",
       "       [  0,   0,   0,   0,   0,   0,   0,   0,   0,   0,   0,   0,  35,\n",
       "        241, 225, 160, 108,   1,   0,   0,   0,   0,   0,   0,   0,   0,\n",
       "          0,   0],\n",
       "       [  0,   0,   0,   0,   0,   0,   0,   0,   0,   0,   0,   0,   0,\n",
       "         81, 240, 253, 253, 119,  25,   0,   0,   0,   0,   0,   0,   0,\n",
       "          0,   0],\n",
       "       [  0,   0,   0,   0,   0,   0,   0,   0,   0,   0,   0,   0,   0,\n",
       "          0,  45, 186, 253, 253, 150,  27,   0,   0,   0,   0,   0,   0,\n",
       "          0,   0],\n",
       "       [  0,   0,   0,   0,   0,   0,   0,   0,   0,   0,   0,   0,   0,\n",
       "          0,   0,  16,  93, 252, 253, 187,   0,   0,   0,   0,   0,   0,\n",
       "          0,   0],\n",
       "       [  0,   0,   0,   0,   0,   0,   0,   0,   0,   0,   0,   0,   0,\n",
       "          0,   0,   0,   0, 249, 253, 249,  64,   0,   0,   0,   0,   0,\n",
       "          0,   0],\n",
       "       [  0,   0,   0,   0,   0,   0,   0,   0,   0,   0,   0,   0,   0,\n",
       "          0,  46, 130, 183, 253, 253, 207,   2,   0,   0,   0,   0,   0,\n",
       "          0,   0],\n",
       "       [  0,   0,   0,   0,   0,   0,   0,   0,   0,   0,   0,   0,  39,\n",
       "        148, 229, 253, 253, 253, 250, 182,   0,   0,   0,   0,   0,   0,\n",
       "          0,   0],\n",
       "       [  0,   0,   0,   0,   0,   0,   0,   0,   0,   0,  24, 114, 221,\n",
       "        253, 253, 253, 253, 201,  78,   0,   0,   0,   0,   0,   0,   0,\n",
       "          0,   0],\n",
       "       [  0,   0,   0,   0,   0,   0,   0,   0,  23,  66, 213, 253, 253,\n",
       "        253, 253, 198,  81,   2,   0,   0,   0,   0,   0,   0,   0,   0,\n",
       "          0,   0],\n",
       "       [  0,   0,   0,   0,   0,   0,  18, 171, 219, 253, 253, 253, 253,\n",
       "        195,  80,   9,   0,   0,   0,   0,   0,   0,   0,   0,   0,   0,\n",
       "          0,   0],\n",
       "       [  0,   0,   0,   0,  55, 172, 226, 253, 253, 253, 253, 244, 133,\n",
       "         11,   0,   0,   0,   0,   0,   0,   0,   0,   0,   0,   0,   0,\n",
       "          0,   0],\n",
       "       [  0,   0,   0,   0, 136, 253, 253, 253, 212, 135, 132,  16,   0,\n",
       "          0,   0,   0,   0,   0,   0,   0,   0,   0,   0,   0,   0,   0,\n",
       "          0,   0],\n",
       "       [  0,   0,   0,   0,   0,   0,   0,   0,   0,   0,   0,   0,   0,\n",
       "          0,   0,   0,   0,   0,   0,   0,   0,   0,   0,   0,   0,   0,\n",
       "          0,   0],\n",
       "       [  0,   0,   0,   0,   0,   0,   0,   0,   0,   0,   0,   0,   0,\n",
       "          0,   0,   0,   0,   0,   0,   0,   0,   0,   0,   0,   0,   0,\n",
       "          0,   0],\n",
       "       [  0,   0,   0,   0,   0,   0,   0,   0,   0,   0,   0,   0,   0,\n",
       "          0,   0,   0,   0,   0,   0,   0,   0,   0,   0,   0,   0,   0,\n",
       "          0,   0]], dtype=uint8)"
      ]
     },
     "execution_count": 4,
     "metadata": {},
     "output_type": "execute_result"
    }
   ],
   "source": [
    "#Sprint 1\n",
    "#understanding the data\n",
    "\n",
    "X_train[0]\n"
   ]
  },
  {
   "cell_type": "code",
   "execution_count": 5,
   "id": "f7f7057e",
   "metadata": {},
   "outputs": [
    {
     "data": {
      "text/plain": [
       "5"
      ]
     },
     "execution_count": 5,
     "metadata": {},
     "output_type": "execute_result"
    }
   ],
   "source": [
    "y_train[0]"
   ]
  },
  {
   "cell_type": "code",
   "execution_count": 11,
   "id": "4eee85b7",
   "metadata": {},
   "outputs": [
    {
     "data": {
      "text/plain": [
       "<matplotlib.image.AxesImage at 0x2b014617ee0>"
      ]
     },
     "execution_count": 11,
     "metadata": {},
     "output_type": "execute_result"
    },
    {
     "data": {
      "image/png": "[encoded data removed]",
      "text/plain": [
       "<Figure size 432x288 with 1 Axes>"
      ]
     },
     "metadata": {
      "needs_background": "light"
     },
     "output_type": "display_data"
    }
   ],
   "source": [
    "plt.imshow(X_train[0])"
   ]
  },
  {
   "cell_type": "code",
   "execution_count": 7,
   "id": "2afe3e91",
   "metadata": {},
   "outputs": [],
   "source": [
    "#Sprint 1\n",
    "#reshaping the dataset\n",
    "X_train=X_train.reshape(60000,28,28,1).astype('float32')\n",
    "X_test=X_test.reshape(10000,28,28,1).astype('float32')"
   ]
  },
  {
   "cell_type": "code",
   "execution_count": 8,
   "id": "582365c6",
   "metadata": {},
   "outputs": [],
   "source": [
    "#Sprint 1\n",
    "#one hot encoding\n",
    "no_classes=10\n",
    "y_train=np_utils.to_categorical(y_train,no_classes)\n",
    "y_test=np_utils.to_categorical(y_test,no_classes)"
   ]
  },
  {
   "cell_type": "code",
   "execution_count": 9,
   "id": "ce6cad64",
   "metadata": {},
   "outputs": [
    {
     "data": {
      "text/plain": [
       "array([0., 0., 0., 0., 0., 1., 0., 0., 0., 0.], dtype=float32)"
      ]
     },
     "execution_count": 9,
     "metadata": {},
     "output_type": "execute_result"
    }
   ],
   "source": [
    "#printing the new label\n",
    "y_train[0]"
   ]
  },
  {
   "cell_type": "code",
   "execution_count": 15,
   "id": "972f7915",
   "metadata": {},
   "outputs": [],
   "source": [
    "#Sprint 2\n",
    "#Creating the model\n",
    "\n",
    "model=Sequential()\n",
    "\n",
    "#adding model layer\n",
    "model.add(Conv2D(64,(3,3),input_shape=(28,28,1),activation='relu'))\n",
    "model.add(Conv2D(32,(3,3),activation='relu'))\n",
    "\n",
    "\n",
    "#flatten the dimension of the image\n",
    "model.add(Flatten())\n",
    "\n",
    "#output layer with 10 neurons\n",
    "model.add(Dense(no_classes,activation='softmax'))"
   ]
  },
  {
   "cell_type": "code",
   "execution_count": 16,
   "id": "2c4c459f",
   "metadata": {},
   "outputs": [],
   "source": [
    "#Compile the model\n",
    "model.compile(loss='categorical_crossentropy',optimizer=\"Adam\",metrics=['accuracy'])"
   ]
  },
  {
   "cell_type": "code",
   "execution_count": 19,
   "id": "a72a4d68",
   "metadata": {},
   "outputs": [
    {
     "name": "stdout",
     "output_type": "stream",
     "text": [
      "Epoch 1/5\n",
      "1875/1875 [==============================] - 133s 70ms/step - loss: 0.2068 - accuracy: 0.9543 - val_loss: 0.0820 - val_accuracy: 0.9750\n",
      "Epoch 2/5\n",
      "1875/1875 [==============================] - 126s 67ms/step - loss: 0.0641 - accuracy: 0.9803 - val_loss: 0.0869 - val_accuracy: 0.9750\n",
      "Epoch 3/5\n",
      "1875/1875 [==============================] - 133s 71ms/step - loss: 0.0470 - accuracy: 0.9855 - val_loss: 0.0810 - val_accuracy: 0.9774\n",
      "Epoch 4/5\n",
      "1875/1875 [==============================] - 129s 69ms/step - loss: 0.0368 - accuracy: 0.9884 - val_loss: 0.0896 - val_accuracy: 0.9781\n",
      "Epoch 5/5\n",
      "1875/1875 [==============================] - 129s 69ms/step - loss: 0.0294 - accuracy: 0.9913 - val_loss: 0.1393 - val_accuracy: 0.9695\n"
     ]
    },
    {
     "data": {
      "text/plain": [
       "<keras.callbacks.History at 0x2b024048280>"
      ]
     },
     "execution_count": 19,
     "metadata": {},
     "output_type": "execute_result"
    }
   ],
   "source": [
    "#fitting the model\n",
    "\n",
    "model.fit(X_train,y_train,validation_data=(X_test,y_test),epochs=5,batch_size=32)"
   ]
  },
  {
   "cell_type": "markdown",
   "id": "7cca085f",
   "metadata": {},
   "source": [
    " Observing the metrics"
   ]
  },
  {
   "cell_type": "code",
   "execution_count": 20,
   "id": "17483e73",
   "metadata": {},
   "outputs": [
    {
     "name": "stdout",
     "output_type": "stream",
     "text": [
      "Metrics(Tesr loss and Test Accuracy):\n",
      "[0.13925771415233612, 0.9695000052452087]\n"
     ]
    }
   ],
   "source": [
    "#final evaluation of the model\n",
    "\n",
    "metrics=model.evaluate(X_test,y_test,verbose=0)\n",
    "print(\"Metrics(Test loss and Test Accuracy):\")\n",
    "print(metrics)"
   ]
  },
  {
   "cell_type": "raw",
   "id": "a9819552",
   "metadata": {},
   "source": [
    "Predicting the Output"
   ]
  },
  {
   "cell_type": "code",
   "execution_count": 21,
   "id": "ee10dcb2",
   "metadata": {},
   "outputs": [
    {
     "name": "stdout",
     "output_type": "stream",
     "text": [
      "1/1 [==============================] - 0s 267ms/step\n",
      "[[2.00554035e-11 3.09320120e-17 3.29157037e-14 4.59538130e-10\n",
      "  2.57778689e-20 4.48461340e-15 3.88025579e-20 1.00000000e+00\n",
      "  7.38416446e-12 3.22724292e-09]\n",
      " [2.27445784e-10 3.75968310e-12 1.00000000e+00 6.89282819e-14\n",
      "  9.86108346e-17 3.51513529e-19 1.02042966e-11 2.09608569e-20\n",
      "  4.32586231e-14 6.42716731e-24]\n",
      " [5.93559219e-13 1.00000000e+00 9.82012693e-10 2.65289066e-13\n",
      "  6.25340002e-09 2.25731521e-12 2.09223375e-10 3.44775763e-08\n",
      "  2.75011992e-11 8.85743128e-12]\n",
      " [1.00000000e+00 5.15908509e-21 5.68719334e-14 1.36535135e-17\n",
      "  3.80047967e-18 5.10071044e-14 1.19628552e-09 2.12989452e-16\n",
      "  3.06164057e-13 7.82308419e-12]]\n"
     ]
    }
   ],
   "source": [
    "prediction=model.predict(X_test[:4])\n",
    "print(prediction)"
   ]
  },
  {
   "cell_type": "code",
   "execution_count": 22,
   "id": "74266699",
   "metadata": {},
   "outputs": [
    {
     "name": "stdout",
     "output_type": "stream",
     "text": [
      "[7 2 1 0]\n",
      "[[0. 0. 0. 0. 0. 0. 0. 1. 0. 0.]\n",
      " [0. 0. 1. 0. 0. 0. 0. 0. 0. 0.]\n",
      " [0. 1. 0. 0. 0. 0. 0. 0. 0. 0.]\n",
      " [1. 0. 0. 0. 0. 0. 0. 0. 0. 0.]]\n"
     ]
    }
   ],
   "source": [
    "print(numpy.argmax(prediction,axis=1))\n",
    "print(y_test[:4])"
   ]
  },
  {
   "cell_type": "markdown",
   "id": "968051a1",
   "metadata": {},
   "source": [
    "Observing the metrics"
   ]
  },
  {
   "cell_type": "code",
   "execution_count": 23,
   "id": "efbaf90b",
   "metadata": {},
   "outputs": [
    {
     "name": "stdout",
     "output_type": "stream",
     "text": [
      "Metrics(Test loss and Test Accuracy):\n",
      "[0.13925771415233612, 0.9695000052452087]\n"
     ]
    }
   ],
   "source": [
    "#final evaluation of the model\n",
    "\n",
    "metrics=model.evaluate(X_test,y_test,verbose=0)\n",
    "print(\"Metrics(Test loss and Test Accuracy):\")\n",
    "print(metrics)"
   ]
  },
  {
   "cell_type": "raw",
   "id": "3e2ac6e3",
   "metadata": {},
   "source": [
    "Predicting the output"
   ]
  },
  {
   "cell_type": "code",
   "execution_count": 24,
   "id": "b514b904",
   "metadata": {},
   "outputs": [
    {
     "name": "stdout",
     "output_type": "stream",
     "text": [
      "1/1 [==============================] - 0s 92ms/step\n",
      "[[2.00554035e-11 3.09320120e-17 3.29157037e-14 4.59538130e-10\n",
      "  2.57778689e-20 4.48461340e-15 3.88025579e-20 1.00000000e+00\n",
      "  7.38416446e-12 3.22724292e-09]\n",
      " [2.27445784e-10 3.75968310e-12 1.00000000e+00 6.89282819e-14\n",
      "  9.86108346e-17 3.51513529e-19 1.02042966e-11 2.09608569e-20\n",
      "  4.32586231e-14 6.42716731e-24]\n",
      " [5.93559219e-13 1.00000000e+00 9.82012693e-10 2.65289066e-13\n",
      "  6.25340002e-09 2.25731521e-12 2.09223375e-10 3.44775763e-08\n",
      "  2.75011992e-11 8.85743128e-12]\n",
      " [1.00000000e+00 5.15908509e-21 5.68719334e-14 1.36535135e-17\n",
      "  3.80047967e-18 5.10071044e-14 1.19628552e-09 2.12989452e-16\n",
      "  3.06164057e-13 7.82308419e-12]]\n"
     ]
    }
   ],
   "source": [
    "prediction=model.predict(X_test[:4])\n",
    "print(prediction)"
   ]
  },
  {
   "cell_type": "code",
   "execution_count": 25,
   "id": "dbc6fd39",
   "metadata": {},
   "outputs": [
    {
     "name": "stdout",
     "output_type": "stream",
     "text": [
      "[7 2 1 0]\n",
      "[[0. 0. 0. 0. 0. 0. 0. 1. 0. 0.]\n",
      " [0. 0. 1. 0. 0. 0. 0. 0. 0. 0.]\n",
      " [0. 1. 0. 0. 0. 0. 0. 0. 0. 0.]\n",
      " [1. 0. 0. 0. 0. 0. 0. 0. 0. 0.]]\n"
     ]
    }
   ],
   "source": [
    "print(numpy.argmax(prediction,axis=1))\n",
    "print(y_test[:4])"
   ]
  },
  {
   "cell_type": "code",
   "execution_count": 30,
   "id": "7093b724",
   "metadata": {},
   "outputs": [],
   "source": [
    "model.save('models/mnistCNN.h5')"
   ]
  },
  {
   "cell_type": "code",
   "execution_count": null,
   "id": "e29212c0",
   "metadata": {},
   "outputs": [],
   "source": []
  }
 ],
 "metadata": {
  "kernelspec": {
   "display_name": "Python 3 (ipykernel)",
   "language": "python",
   "name": "python3"
  },
  "language_info": {
   "codemirror_mode": {
    "name": "ipython",
    "version": 3
   },
   "file_extension": ".py",
   "mimetype": "text/x-python",
   "name": "python",
   "nbconvert_exporter": "python",
   "pygments_lexer": "ipython3",
   "version": "3.9.7"
  },
  "vscode": {
   "interpreter": {
    "hash": "852a5a5db4fbb398c20c5eb994fe0b8b6688b9e029ab45ada3abc078552b7910"
   }
  }
 },
 "nbformat": 4,
 "nbformat_minor": 5
}
