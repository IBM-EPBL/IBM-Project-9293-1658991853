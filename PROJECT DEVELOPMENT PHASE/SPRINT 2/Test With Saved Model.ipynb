{
 "cells": [
  {
   "cell_type": "markdown",
   "id": "c79db77a",
   "metadata": {},
   "source": [
    "Taking Images as Input and Checking results"
   ]
  },
  {
   "cell_type": "code",
   "execution_count": 8,
   "id": "af97c9aa",
   "metadata": {},
   "outputs": [],
   "source": [
    "from tensorflow.keras.models import load_model\n",
    "import numpy as np\n",
    "model=load_model(r'C:\\Users\\RM.Dhivya Lakshmi\\Desktop\\Proj\\models/mnistCNN.h5')\n",
    "#to manipulate image uploaded by the user\n"
   ]
  },
  {
   "cell_type": "code",
   "execution_count": 14,
   "id": "e3708afd",
   "metadata": {},
   "outputs": [
    {
     "name": "stdout",
     "output_type": "stream",
     "text": [
      "1/1 [==============================] - 0s 43ms/step\n",
      "[[4.2950374e-19 4.6168901e-13 5.5963448e-13 1.0000000e+00 1.3572206e-15\n",
      "  2.2334999e-15 2.3525756e-15 5.1589825e-15 8.9722690e-13 1.7363298e-14]]\n",
      "1/1 [==============================] - 0s 40ms/step\n",
      "[[0.09475651 0.03614098 0.102612   0.06980047 0.13266614 0.14116243\n",
      "  0.17692943 0.02298027 0.11045554 0.1124962 ]]\n",
      "1/1 [==============================] - 0s 43ms/step\n",
      "[[4.6370183e-06 1.1401223e-08 6.2200420e-06 9.1726242e-06 5.3116855e-06\n",
      "  4.2344452e-04 5.7760855e-05 2.5952643e-06 9.9949074e-01 1.0274702e-07]]\n",
      "1/1 [==============================] - 0s 41ms/step\n",
      "[[1.3379322e-03 5.3394544e-08 2.3656085e-05 6.5496038e-03 2.6846610e-05\n",
      "  7.1474514e-04 2.1460706e-03 5.1369998e-08 3.1423797e-03 9.8605865e-01]]\n"
     ]
    }
   ],
   "source": [
    "from PIL import Image\n",
    "\n",
    "for index in range(4):\n",
    "    img=Image.open('C:/Users/RM.Dhivya Lakshmi/Desktop/Proj/data/data'+str(index)+'.png').convert(\"L\") #convert image to monochrome\n",
    "    img=img.resize((28,28)) #resizing of input image\n",
    "    im2arr = np.array(img) #converting to image\n",
    "    im2arr=im2arr.reshape(1,28,28,1) #reshaping according to our requirement\n",
    "    #Predicting the Test set results\n",
    "    y_pred=model.predict(im2arr)\n",
    "    print(y_pred)"
   ]
  },
  {
   "cell_type": "code",
   "execution_count": null,
   "id": "4f6a71e0",
   "metadata": {},
   "outputs": [],
   "source": []
  },
  {
   "cell_type": "code",
   "execution_count": null,
   "id": "cb4e3653",
   "metadata": {},
   "outputs": [],
   "source": []
  }
 ],
 "metadata": {
  "kernelspec": {
   "display_name": "Python 3 (ipykernel)",
   "language": "python",
   "name": "python3"
  },
  "language_info": {
   "codemirror_mode": {
    "name": "ipython",
    "version": 3
   },
   "file_extension": ".py",
   "mimetype": "text/x-python",
   "name": "python",
   "nbconvert_exporter": "python",
   "pygments_lexer": "ipython3",
   "version": "3.9.7"
  }
 },
 "nbformat": 4,
 "nbformat_minor": 5
}
